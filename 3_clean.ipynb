{
 "cells": [
  {
   "cell_type": "code",
   "execution_count": null,
   "metadata": {},
   "outputs": [],
   "source": [
    "# 预测后的数据的清洗"
   ]
  },
  {
   "cell_type": "code",
   "execution_count": 2,
   "metadata": {},
   "outputs": [],
   "source": [
    "import pandas as pd\n",
    "import numpy as np"
   ]
  },
  {
   "cell_type": "code",
   "execution_count": 65,
   "metadata": {},
   "outputs": [],
   "source": [
    "predict_file = pd.read_csv(\"./datasets/deepseek_0.csv\", on_bad_lines='skip')\n",
    "# predict_file = pd.read_csv(\"predict_file_copy.csv\")"
   ]
  },
  {
   "cell_type": "code",
   "execution_count": null,
   "metadata": {},
   "outputs": [],
   "source": [
    "print(predict_file)"
   ]
  },
  {
   "cell_type": "code",
   "execution_count": 12,
   "metadata": {},
   "outputs": [],
   "source": [
    "# 看一下从哪里开始缺失的\n",
    "for i in range(predict_file.shape[0]):\n",
    "    if i != int(predict_file.iloc[i].iloc[0]):\n",
    "        print(i)\n",
    "        break"
   ]
  },
  {
   "cell_type": "code",
   "execution_count": null,
   "metadata": {},
   "outputs": [],
   "source": [
    "# 计算有多少个数据的预测概率相加不为一\n",
    "l1 = 0\n",
    "\n",
    "# 计算有多少个数据 预测概率缺失\n",
    "l2 = 0\n",
    "\n",
    "for i in range(predict_file.shape[0]):\n",
    "    attack = predict_file.at[i, \"attack\"]\n",
    "    benign = predict_file.at[i, \"benign\"]\n",
    "    # print(i)\n",
    "    if pd.isna(attack) or pd.isna(benign):\n",
    "        l2 += 1\n",
    "    else: \n",
    "        if float(attack) + float(benign) != 1:\n",
    "            l1 += 1      \n",
    "\n",
    "print(l1, l2)\n"
   ]
  },
  {
   "cell_type": "code",
   "execution_count": 6,
   "metadata": {},
   "outputs": [],
   "source": [
    "# 验证float转化\n",
    "for i in range(predict_file.shape[0]):\n",
    "    float(predict_file.at[i, 'attack'])"
   ]
  },
  {
   "cell_type": "code",
   "execution_count": null,
   "metadata": {},
   "outputs": [],
   "source": [
    "print(predict_file)"
   ]
  },
  {
   "cell_type": "code",
   "execution_count": 66,
   "metadata": {},
   "outputs": [],
   "source": [
    "ori_file = pd.read_csv(\"./datasets/original.csv\")\n",
    "\n",
    "labels = []\n",
    "pre_result = []\n",
    "\n",
    "\n",
    "for i in range(predict_file.shape[0]):\n",
    "    attack = predict_file.at[i, \"attack\"]\n",
    "    benign = predict_file.at[i, \"benign\"]\n",
    "\n",
    "    if pd.isna(attack) or pd.isna(benign):\n",
    "        pass\n",
    "    else:\n",
    "        if ori_file.at[i, \" Label\"] != 'BENIGN':\n",
    "            labels.append(0)\n",
    "        else:\n",
    "            labels.append(1)\n",
    "\n",
    "        probabilities = np.array([attack, benign], dtype=float)\n",
    "        normalized_probabilities = probabilities / np.sum(probabilities)\n",
    "        \n",
    "        if np.sum(probabilities) == 0:\n",
    "            print(i)\n",
    "        \n",
    "        pre_result.append(normalized_probabilities)\n",
    "\n"
   ]
  },
  {
   "cell_type": "code",
   "execution_count": null,
   "metadata": {},
   "outputs": [],
   "source": [
    "print(len(labels))\n",
    "print(len(pre_result))"
   ]
  },
  {
   "cell_type": "code",
   "execution_count": null,
   "metadata": {},
   "outputs": [],
   "source": [
    "import numpy as np\n",
    "import matplotlib.pyplot as plt\n",
    "import seaborn as sns\n",
    "from sklearn.metrics import confusion_matrix, precision_score, recall_score, roc_auc_score, f1_score\n",
    "\n",
    "# labels = [0, 0, 0, 0, 0, 0, 1, 1, 1, 1, 1, 1]\n",
    "# pre_result = [\n",
    "#     [0.650, 0.350],\n",
    "#     [0.100,  0.900],\n",
    "#     [0.85, 0.15],\n",
    "#     [0.950, 0.050],\n",
    "#     [0.900, 0.100],\n",
    "#     [0.75, 0.25],\n",
    "#     [0.800, 0.200],\n",
    "#     [0.10, 0.90],\n",
    "#     [0.85, 0.15],\n",
    "#     [0.1, 0.9],\n",
    "#     [0.780, 0.220],\n",
    "#     [0.85, 0.15],\n",
    "# ]\n",
    "\n",
    "# Convert prediction results to labels (using the class with the highest probability)\n",
    "predicted_labels = np.argmax(pre_result, axis=1)\n",
    "\n",
    "# Calculate metrics\n",
    "precision = precision_score(labels, predicted_labels)\n",
    "recall = recall_score(labels, predicted_labels)\n",
    "f1 = f1_score(labels, predicted_labels)\n",
    "positive_probabilities = [prob[1] for prob in pre_result]\n",
    "auc = roc_auc_score(labels, positive_probabilities)\n",
    "\n",
    "# Print the metrics\n",
    "print(f\"F1 Score: {f1}\")\n",
    "print(f\"Precision: {precision}\")\n",
    "print(f\"Recall: {recall}\")\n",
    "print(f\"AUC: {auc}\")\n",
    "\n",
    "# Plot confusion matrix\n",
    "conf_matrix = confusion_matrix(labels, predicted_labels)\n",
    "plt.figure(figsize=(6, 4))\n",
    "sns.heatmap(conf_matrix, annot=True, fmt='d', cmap='Blues', xticklabels=[0, 1], yticklabels=[0, 1])\n",
    "plt.xlabel('Predicted Labels')\n",
    "plt.ylabel('True Labels')\n",
    "plt.title('Confusion Matrix')\n",
    "plt.show()\n"
   ]
  },
  {
   "cell_type": "code",
   "execution_count": null,
   "metadata": {},
   "outputs": [],
   "source": [
    "import numpy as np\n",
    "import matplotlib.pyplot as plt\n",
    "from sklearn.metrics import roc_curve, roc_auc_score\n",
    "\n",
    "# Provided data\n",
    "# labels = [0, 0, 0, 0, 0, 0, 1, 1, 1, 1, 1, 1]\n",
    "# pre_result = [\n",
    "#     [0.650, 0.350],\n",
    "#     [0.100,  0.900],\n",
    "#     [0.85, 0.15],\n",
    "#     [0.950, 0.050],\n",
    "#     [0.900, 0.100],\n",
    "#     [0.75, 0.25],\n",
    "#     [0.800, 0.200],\n",
    "#     [0.10, 0.90],\n",
    "#     [0.85, 0.15],\n",
    "#     [0.1, 0.9],\n",
    "#     [0.780, 0.220],\n",
    "#     [0.85, 0.15],\n",
    "# ]\n",
    "\n",
    "# Convert prediction results to labels (using the class with the highest probability)\n",
    "predicted_labels = np.argmax(pre_result, axis=1)\n",
    "\n",
    "# Extract the probabilities for the positive class\n",
    "positive_probabilities = [prob[1] for prob in pre_result]\n",
    "\n",
    "# Calculate AUC\n",
    "auc = roc_auc_score(labels, positive_probabilities)\n",
    "\n",
    "# Compute ROC curve\n",
    "fpr, tpr, thresholds = roc_curve(labels, positive_probabilities)\n",
    "\n",
    "# Plot ROC curve\n",
    "plt.figure(figsize=(8, 6))\n",
    "plt.plot(fpr, tpr, color='blue', label=f'AUC = {auc:.4f}')\n",
    "plt.plot([0, 1], [0, 1], color='gray', linestyle='--')  # Diagonal line\n",
    "plt.xlim([0.0, 1.0])\n",
    "plt.ylim([0.0, 1.0])\n",
    "plt.xlabel('False Positive Rate')\n",
    "plt.ylabel('True Positive Rate')\n",
    "plt.title('ROC Curve')\n",
    "plt.legend(loc='lower right')\n",
    "plt.show()\n"
   ]
  }
 ],
 "metadata": {
  "kernelspec": {
   "display_name": "Python 3",
   "language": "python",
   "name": "python3"
  },
  "language_info": {
   "codemirror_mode": {
    "name": "ipython",
    "version": 3
   },
   "file_extension": ".py",
   "mimetype": "text/x-python",
   "name": "python",
   "nbconvert_exporter": "python",
   "pygments_lexer": "ipython3",
   "version": "3.11.9"
  }
 },
 "nbformat": 4,
 "nbformat_minor": 2
}
