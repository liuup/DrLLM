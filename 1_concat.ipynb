{
 "cells": [
  {
   "cell_type": "code",
   "execution_count": 2,
   "metadata": {},
   "outputs": [],
   "source": [
    "# 合并01-12的数据集文件\n",
    "\n",
    "import pandas as pd\n",
    "import numpy as np"
   ]
  },
  {
   "cell_type": "code",
   "execution_count": null,
   "metadata": {},
   "outputs": [],
   "source": [
    "dns = pd.read_csv(\"./01-12/DrDoS_DNS.csv\")\n",
    "ldap = pd.read_csv(\"./01-12/DrDoS_LDAP.csv\")\n",
    "mssql = pd.read_csv(\"./01-12/DrDoS_MSSQL.csv\")\n",
    "netbios = pd.read_csv(\"./01-12/DrDoS_NetBIOS.csv\")\n",
    "ntp = pd.read_csv(\"./01-12/DrDoS_NTP.csv\")\n",
    "snmp = pd.read_csv(\"./01-12/DrDoS_SNMP.csv\")\n",
    "ssdp = pd.read_csv(\"./01-12/DrDoS_SSDP.csv\")\n",
    "udp = pd.read_csv(\"./01-12/DrDoS_UDP.csv\")\n",
    "syn = pd.read_csv(\"./01-12/Syn.csv\")\n",
    "tftp = pd.read_csv(\"./01-12/TFTP.csv\")\n",
    "udplag = pd.read_csv(\"./01-12/UDPLag.csv\")"
   ]
  },
  {
   "cell_type": "code",
   "execution_count": 4,
   "metadata": {},
   "outputs": [],
   "source": [
    "# 合并DataFrame\n",
    "df_combined = pd.concat([dns, ldap, mssql, netbios, ntp, snmp, ssdp, udp, syn, tftp, udplag], axis=0)"
   ]
  },
  {
   "cell_type": "code",
   "execution_count": null,
   "metadata": {},
   "outputs": [],
   "source": [
    "# 计算每个label的数量\n",
    "label_counts = df_combined[' Label'].value_counts()\n",
    "\n",
    "# 计算每个label的比例\n",
    "label_proportions = label_counts / label_counts.sum()\n",
    "\n",
    "print(label_counts)\n",
    "print(label_proportions)"
   ]
  },
  {
   "cell_type": "code",
   "execution_count": 13,
   "metadata": {},
   "outputs": [],
   "source": [
    "ddos_data = df_combined.drop(['Unnamed: 0', 'Flow ID', ' Source IP', ' Source Port', ' Destination IP', ' Destination Port',' Timestamp','SimillarHTTP'], axis=1)\n",
    "ddos_data = ddos_data.replace([np.inf, -np.inf], np.nan)  # 将 inf 替换为 NaN\n",
    "ddos_data = ddos_data.dropna()  # 去除包含 NaN 或 inf 的行"
   ]
  },
  {
   "cell_type": "code",
   "execution_count": null,
   "metadata": {},
   "outputs": [],
   "source": [
    "print(ddos_data.shape)\n",
    "print(ddos_data.columns)"
   ]
  },
  {
   "cell_type": "code",
   "execution_count": null,
   "metadata": {},
   "outputs": [],
   "source": [
    "print(ddos_data[' Label'].value_counts())"
   ]
  },
  {
   "cell_type": "code",
   "execution_count": null,
   "metadata": {},
   "outputs": [],
   "source": [
    "print(ddos_data.shape)"
   ]
  },
  {
   "cell_type": "code",
   "execution_count": 17,
   "metadata": {},
   "outputs": [],
   "source": [
    "ddos_data.to_csv(\"./datasets/original.csv\", index=False)"
   ]
  }
 ],
 "metadata": {
  "kernelspec": {
   "display_name": "Python 3",
   "language": "python",
   "name": "python3"
  },
  "language_info": {
   "codemirror_mode": {
    "name": "ipython",
    "version": 3
   },
   "file_extension": ".py",
   "mimetype": "text/x-python",
   "name": "python",
   "nbconvert_exporter": "python",
   "pygments_lexer": "ipython3",
   "version": "3.11.9"
  }
 },
 "nbformat": 4,
 "nbformat_minor": 2
}
